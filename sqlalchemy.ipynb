{
 "cells": [
  {
   "cell_type": "code",
   "execution_count": 1,
   "metadata": {},
   "outputs": [],
   "source": [
    "from sqlalchemy import create_engine\n",
    "from sqlalchemy.orm import Session\n",
    "from test_model import Person"
   ]
  },
  {
   "cell_type": "code",
   "execution_count": 2,
   "metadata": {},
   "outputs": [],
   "source": [
    "engine = create_engine('sqlite:///test_db', echo=True)\n",
    "session = Session(engine)"
   ]
  },
  {
   "cell_type": "code",
   "execution_count": 3,
   "metadata": {},
   "outputs": [
    {
     "name": "stdout",
     "output_type": "stream",
     "text": [
      "2023-10-14 17:24:58,369 INFO sqlalchemy.engine.Engine BEGIN (implicit)\n",
      "2023-10-14 17:24:58,374 INFO sqlalchemy.engine.Engine SELECT person.id AS person_id, person.name AS person_name, person.size AS person_size \n",
      "FROM person\n",
      "2023-10-14 17:24:58,375 INFO sqlalchemy.engine.Engine [generated in 0.00126s] ()\n"
     ]
    }
   ],
   "source": [
    "persons = session.query(Person).all()"
   ]
  },
  {
   "cell_type": "code",
   "execution_count": 4,
   "metadata": {},
   "outputs": [
    {
     "name": "stdout",
     "output_type": "stream",
     "text": [
      "id:1 name:name_a size:10.5\n",
      "id:3 name:c_update size:3.14\n",
      "id:4 name:from_model size:2.236\n",
      "id:5 name:new_model size:20.5\n",
      "id:100 name:name_z size:99.9\n"
     ]
    }
   ],
   "source": [
    "for person in persons:\n",
    "    print(f'id:{person.id} name:{person.name} size:{person.size}')"
   ]
  },
  {
   "cell_type": "code",
   "execution_count": 5,
   "metadata": {},
   "outputs": [],
   "source": [
    "new_person= Person(id=5, name='new_model', size=20.5)\n",
    "session.add(new_person)"
   ]
  },
  {
   "cell_type": "code",
   "execution_count": 6,
   "metadata": {},
   "outputs": [
    {
     "name": "stdout",
     "output_type": "stream",
     "text": [
      "2023-10-14 17:24:58,611 INFO sqlalchemy.engine.Engine INSERT INTO person (id, name, size) VALUES (?, ?, ?)\n",
      "2023-10-14 17:24:58,612 INFO sqlalchemy.engine.Engine [generated in 0.00180s] (5, 'new_model', 20.5)\n"
     ]
    },
    {
     "name": "stderr",
     "output_type": "stream",
     "text": [
      "/tmp/ipykernel_17622/631814250.py:1: SAWarning: New instance <Person at 0x7f8fee6a8d60> with identity key (<class 'test_model.Person'>, (5,), None) conflicts with persistent instance <Person at 0x7f8fee6a86a0>\n",
      "  session.commit()\n"
     ]
    },
    {
     "name": "stdout",
     "output_type": "stream",
     "text": [
      "2023-10-14 17:25:03,645 INFO sqlalchemy.engine.Engine ROLLBACK\n"
     ]
    },
    {
     "ename": "OperationalError",
     "evalue": "(sqlite3.OperationalError) database is locked\n[SQL: INSERT INTO person (id, name, size) VALUES (?, ?, ?)]\n[parameters: (5, 'new_model', 20.5)]\n(Background on this error at: https://sqlalche.me/e/14/e3q8)",
     "output_type": "error",
     "traceback": [
      "\u001b[0;31m---------------------------------------------------------------------------\u001b[0m",
      "\u001b[0;31mOperationalError\u001b[0m                          Traceback (most recent call last)",
      "File \u001b[0;32m~/Python_Webapp/venv/lib/python3.10/site-packages/sqlalchemy/engine/base.py:1910\u001b[0m, in \u001b[0;36mConnection._execute_context\u001b[0;34m(self, dialect, constructor, statement, parameters, execution_options, *args, **kw)\u001b[0m\n\u001b[1;32m   1909\u001b[0m     \u001b[39mif\u001b[39;00m \u001b[39mnot\u001b[39;00m evt_handled:\n\u001b[0;32m-> 1910\u001b[0m         \u001b[39mself\u001b[39;49m\u001b[39m.\u001b[39;49mdialect\u001b[39m.\u001b[39;49mdo_execute(\n\u001b[1;32m   1911\u001b[0m             cursor, statement, parameters, context\n\u001b[1;32m   1912\u001b[0m         )\n\u001b[1;32m   1914\u001b[0m \u001b[39mif\u001b[39;00m \u001b[39mself\u001b[39m\u001b[39m.\u001b[39m_has_events \u001b[39mor\u001b[39;00m \u001b[39mself\u001b[39m\u001b[39m.\u001b[39mengine\u001b[39m.\u001b[39m_has_events:\n",
      "File \u001b[0;32m~/Python_Webapp/venv/lib/python3.10/site-packages/sqlalchemy/engine/default.py:736\u001b[0m, in \u001b[0;36mDefaultDialect.do_execute\u001b[0;34m(self, cursor, statement, parameters, context)\u001b[0m\n\u001b[1;32m    735\u001b[0m \u001b[39mdef\u001b[39;00m \u001b[39mdo_execute\u001b[39m(\u001b[39mself\u001b[39m, cursor, statement, parameters, context\u001b[39m=\u001b[39m\u001b[39mNone\u001b[39;00m):\n\u001b[0;32m--> 736\u001b[0m     cursor\u001b[39m.\u001b[39;49mexecute(statement, parameters)\n",
      "\u001b[0;31mOperationalError\u001b[0m: database is locked",
      "\nThe above exception was the direct cause of the following exception:\n",
      "\u001b[0;31mOperationalError\u001b[0m                          Traceback (most recent call last)",
      "\u001b[1;32m/home/cre/Python_Webapp/sqlalchemy.ipynb セル 6\u001b[0m line \u001b[0;36m1\n\u001b[0;32m----> <a href='vscode-notebook-cell://wsl%2Bubuntu-22.04/home/cre/Python_Webapp/sqlalchemy.ipynb#X14sdnNjb2RlLXJlbW90ZQ%3D%3D?line=0'>1</a>\u001b[0m session\u001b[39m.\u001b[39;49mcommit()\n",
      "File \u001b[0;32m~/Python_Webapp/venv/lib/python3.10/site-packages/sqlalchemy/orm/session.py:1454\u001b[0m, in \u001b[0;36mSession.commit\u001b[0;34m(self)\u001b[0m\n\u001b[1;32m   1451\u001b[0m     \u001b[39mif\u001b[39;00m \u001b[39mnot\u001b[39;00m \u001b[39mself\u001b[39m\u001b[39m.\u001b[39m_autobegin():\n\u001b[1;32m   1452\u001b[0m         \u001b[39mraise\u001b[39;00m sa_exc\u001b[39m.\u001b[39mInvalidRequestError(\u001b[39m\"\u001b[39m\u001b[39mNo transaction is begun.\u001b[39m\u001b[39m\"\u001b[39m)\n\u001b[0;32m-> 1454\u001b[0m \u001b[39mself\u001b[39;49m\u001b[39m.\u001b[39;49m_transaction\u001b[39m.\u001b[39;49mcommit(_to_root\u001b[39m=\u001b[39;49m\u001b[39mself\u001b[39;49m\u001b[39m.\u001b[39;49mfuture)\n",
      "File \u001b[0;32m~/Python_Webapp/venv/lib/python3.10/site-packages/sqlalchemy/orm/session.py:832\u001b[0m, in \u001b[0;36mSessionTransaction.commit\u001b[0;34m(self, _to_root)\u001b[0m\n\u001b[1;32m    830\u001b[0m \u001b[39mself\u001b[39m\u001b[39m.\u001b[39m_assert_active(prepared_ok\u001b[39m=\u001b[39m\u001b[39mTrue\u001b[39;00m)\n\u001b[1;32m    831\u001b[0m \u001b[39mif\u001b[39;00m \u001b[39mself\u001b[39m\u001b[39m.\u001b[39m_state \u001b[39mis\u001b[39;00m \u001b[39mnot\u001b[39;00m PREPARED:\n\u001b[0;32m--> 832\u001b[0m     \u001b[39mself\u001b[39;49m\u001b[39m.\u001b[39;49m_prepare_impl()\n\u001b[1;32m    834\u001b[0m \u001b[39mif\u001b[39;00m \u001b[39mself\u001b[39m\u001b[39m.\u001b[39m_parent \u001b[39mis\u001b[39;00m \u001b[39mNone\u001b[39;00m \u001b[39mor\u001b[39;00m \u001b[39mself\u001b[39m\u001b[39m.\u001b[39mnested:\n\u001b[1;32m    835\u001b[0m     \u001b[39mfor\u001b[39;00m conn, trans, should_commit, autoclose \u001b[39min\u001b[39;00m \u001b[39mset\u001b[39m(\n\u001b[1;32m    836\u001b[0m         \u001b[39mself\u001b[39m\u001b[39m.\u001b[39m_connections\u001b[39m.\u001b[39mvalues()\n\u001b[1;32m    837\u001b[0m     ):\n",
      "File \u001b[0;32m~/Python_Webapp/venv/lib/python3.10/site-packages/sqlalchemy/orm/session.py:811\u001b[0m, in \u001b[0;36mSessionTransaction._prepare_impl\u001b[0;34m(self)\u001b[0m\n\u001b[1;32m    809\u001b[0m     \u001b[39mif\u001b[39;00m \u001b[39mself\u001b[39m\u001b[39m.\u001b[39msession\u001b[39m.\u001b[39m_is_clean():\n\u001b[1;32m    810\u001b[0m         \u001b[39mbreak\u001b[39;00m\n\u001b[0;32m--> 811\u001b[0m     \u001b[39mself\u001b[39;49m\u001b[39m.\u001b[39;49msession\u001b[39m.\u001b[39;49mflush()\n\u001b[1;32m    812\u001b[0m \u001b[39melse\u001b[39;00m:\n\u001b[1;32m    813\u001b[0m     \u001b[39mraise\u001b[39;00m exc\u001b[39m.\u001b[39mFlushError(\n\u001b[1;32m    814\u001b[0m         \u001b[39m\"\u001b[39m\u001b[39mOver 100 subsequent flushes have occurred within \u001b[39m\u001b[39m\"\u001b[39m\n\u001b[1;32m    815\u001b[0m         \u001b[39m\"\u001b[39m\u001b[39msession.commit() - is an after_flush() hook \u001b[39m\u001b[39m\"\u001b[39m\n\u001b[1;32m    816\u001b[0m         \u001b[39m\"\u001b[39m\u001b[39mcreating new objects?\u001b[39m\u001b[39m\"\u001b[39m\n\u001b[1;32m    817\u001b[0m     )\n",
      "File \u001b[0;32m~/Python_Webapp/venv/lib/python3.10/site-packages/sqlalchemy/orm/session.py:3449\u001b[0m, in \u001b[0;36mSession.flush\u001b[0;34m(self, objects)\u001b[0m\n\u001b[1;32m   3447\u001b[0m \u001b[39mtry\u001b[39;00m:\n\u001b[1;32m   3448\u001b[0m     \u001b[39mself\u001b[39m\u001b[39m.\u001b[39m_flushing \u001b[39m=\u001b[39m \u001b[39mTrue\u001b[39;00m\n\u001b[0;32m-> 3449\u001b[0m     \u001b[39mself\u001b[39;49m\u001b[39m.\u001b[39;49m_flush(objects)\n\u001b[1;32m   3450\u001b[0m \u001b[39mfinally\u001b[39;00m:\n\u001b[1;32m   3451\u001b[0m     \u001b[39mself\u001b[39m\u001b[39m.\u001b[39m_flushing \u001b[39m=\u001b[39m \u001b[39mFalse\u001b[39;00m\n",
      "File \u001b[0;32m~/Python_Webapp/venv/lib/python3.10/site-packages/sqlalchemy/orm/session.py:3588\u001b[0m, in \u001b[0;36mSession._flush\u001b[0;34m(self, objects)\u001b[0m\n\u001b[1;32m   3585\u001b[0m     transaction\u001b[39m.\u001b[39mcommit()\n\u001b[1;32m   3587\u001b[0m \u001b[39mexcept\u001b[39;00m:\n\u001b[0;32m-> 3588\u001b[0m     \u001b[39mwith\u001b[39;00m util\u001b[39m.\u001b[39msafe_reraise():\n\u001b[1;32m   3589\u001b[0m         transaction\u001b[39m.\u001b[39mrollback(_capture_exception\u001b[39m=\u001b[39m\u001b[39mTrue\u001b[39;00m)\n",
      "File \u001b[0;32m~/Python_Webapp/venv/lib/python3.10/site-packages/sqlalchemy/util/langhelpers.py:70\u001b[0m, in \u001b[0;36msafe_reraise.__exit__\u001b[0;34m(self, type_, value, traceback)\u001b[0m\n\u001b[1;32m     68\u001b[0m     \u001b[39mself\u001b[39m\u001b[39m.\u001b[39m_exc_info \u001b[39m=\u001b[39m \u001b[39mNone\u001b[39;00m  \u001b[39m# remove potential circular references\u001b[39;00m\n\u001b[1;32m     69\u001b[0m     \u001b[39mif\u001b[39;00m \u001b[39mnot\u001b[39;00m \u001b[39mself\u001b[39m\u001b[39m.\u001b[39mwarn_only:\n\u001b[0;32m---> 70\u001b[0m         compat\u001b[39m.\u001b[39;49mraise_(\n\u001b[1;32m     71\u001b[0m             exc_value,\n\u001b[1;32m     72\u001b[0m             with_traceback\u001b[39m=\u001b[39;49mexc_tb,\n\u001b[1;32m     73\u001b[0m         )\n\u001b[1;32m     74\u001b[0m \u001b[39melse\u001b[39;00m:\n\u001b[1;32m     75\u001b[0m     \u001b[39mif\u001b[39;00m \u001b[39mnot\u001b[39;00m compat\u001b[39m.\u001b[39mpy3k \u001b[39mand\u001b[39;00m \u001b[39mself\u001b[39m\u001b[39m.\u001b[39m_exc_info \u001b[39mand\u001b[39;00m \u001b[39mself\u001b[39m\u001b[39m.\u001b[39m_exc_info[\u001b[39m1\u001b[39m]:\n\u001b[1;32m     76\u001b[0m         \u001b[39m# emulate Py3K's behavior of telling us when an exception\u001b[39;00m\n\u001b[1;32m     77\u001b[0m         \u001b[39m# occurs in an exception handler.\u001b[39;00m\n",
      "File \u001b[0;32m~/Python_Webapp/venv/lib/python3.10/site-packages/sqlalchemy/util/compat.py:211\u001b[0m, in \u001b[0;36mraise_\u001b[0;34m(***failed resolving arguments***)\u001b[0m\n\u001b[1;32m    208\u001b[0m     exception\u001b[39m.\u001b[39m__cause__ \u001b[39m=\u001b[39m replace_context\n\u001b[1;32m    210\u001b[0m \u001b[39mtry\u001b[39;00m:\n\u001b[0;32m--> 211\u001b[0m     \u001b[39mraise\u001b[39;00m exception\n\u001b[1;32m    212\u001b[0m \u001b[39mfinally\u001b[39;00m:\n\u001b[1;32m    213\u001b[0m     \u001b[39m# credit to\u001b[39;00m\n\u001b[1;32m    214\u001b[0m     \u001b[39m# https://cosmicpercolator.com/2016/01/13/exception-leaks-in-python-2-and-3/\u001b[39;00m\n\u001b[1;32m    215\u001b[0m     \u001b[39m# as the __traceback__ object creates a cycle\u001b[39;00m\n\u001b[1;32m    216\u001b[0m     \u001b[39mdel\u001b[39;00m exception, replace_context, from_, with_traceback\n",
      "File \u001b[0;32m~/Python_Webapp/venv/lib/python3.10/site-packages/sqlalchemy/orm/session.py:3549\u001b[0m, in \u001b[0;36mSession._flush\u001b[0;34m(self, objects)\u001b[0m\n\u001b[1;32m   3547\u001b[0m \u001b[39mself\u001b[39m\u001b[39m.\u001b[39m_warn_on_events \u001b[39m=\u001b[39m \u001b[39mTrue\u001b[39;00m\n\u001b[1;32m   3548\u001b[0m \u001b[39mtry\u001b[39;00m:\n\u001b[0;32m-> 3549\u001b[0m     flush_context\u001b[39m.\u001b[39;49mexecute()\n\u001b[1;32m   3550\u001b[0m \u001b[39mfinally\u001b[39;00m:\n\u001b[1;32m   3551\u001b[0m     \u001b[39mself\u001b[39m\u001b[39m.\u001b[39m_warn_on_events \u001b[39m=\u001b[39m \u001b[39mFalse\u001b[39;00m\n",
      "File \u001b[0;32m~/Python_Webapp/venv/lib/python3.10/site-packages/sqlalchemy/orm/unitofwork.py:456\u001b[0m, in \u001b[0;36mUOWTransaction.execute\u001b[0;34m(self)\u001b[0m\n\u001b[1;32m    454\u001b[0m \u001b[39melse\u001b[39;00m:\n\u001b[1;32m    455\u001b[0m     \u001b[39mfor\u001b[39;00m rec \u001b[39min\u001b[39;00m topological\u001b[39m.\u001b[39msort(\u001b[39mself\u001b[39m\u001b[39m.\u001b[39mdependencies, postsort_actions):\n\u001b[0;32m--> 456\u001b[0m         rec\u001b[39m.\u001b[39;49mexecute(\u001b[39mself\u001b[39;49m)\n",
      "File \u001b[0;32m~/Python_Webapp/venv/lib/python3.10/site-packages/sqlalchemy/orm/unitofwork.py:630\u001b[0m, in \u001b[0;36mSaveUpdateAll.execute\u001b[0;34m(self, uow)\u001b[0m\n\u001b[1;32m    628\u001b[0m \u001b[39m@util\u001b[39m\u001b[39m.\u001b[39mpreload_module(\u001b[39m\"\u001b[39m\u001b[39msqlalchemy.orm.persistence\u001b[39m\u001b[39m\"\u001b[39m)\n\u001b[1;32m    629\u001b[0m \u001b[39mdef\u001b[39;00m \u001b[39mexecute\u001b[39m(\u001b[39mself\u001b[39m, uow):\n\u001b[0;32m--> 630\u001b[0m     util\u001b[39m.\u001b[39;49mpreloaded\u001b[39m.\u001b[39;49morm_persistence\u001b[39m.\u001b[39;49msave_obj(\n\u001b[1;32m    631\u001b[0m         \u001b[39mself\u001b[39;49m\u001b[39m.\u001b[39;49mmapper,\n\u001b[1;32m    632\u001b[0m         uow\u001b[39m.\u001b[39;49mstates_for_mapper_hierarchy(\u001b[39mself\u001b[39;49m\u001b[39m.\u001b[39;49mmapper, \u001b[39mFalse\u001b[39;49;00m, \u001b[39mFalse\u001b[39;49;00m),\n\u001b[1;32m    633\u001b[0m         uow,\n\u001b[1;32m    634\u001b[0m     )\n",
      "File \u001b[0;32m~/Python_Webapp/venv/lib/python3.10/site-packages/sqlalchemy/orm/persistence.py:245\u001b[0m, in \u001b[0;36msave_obj\u001b[0;34m(base_mapper, states, uowtransaction, single)\u001b[0m\n\u001b[1;32m    233\u001b[0m     update \u001b[39m=\u001b[39m _collect_update_commands(\n\u001b[1;32m    234\u001b[0m         uowtransaction, table, states_to_update\n\u001b[1;32m    235\u001b[0m     )\n\u001b[1;32m    237\u001b[0m     _emit_update_statements(\n\u001b[1;32m    238\u001b[0m         base_mapper,\n\u001b[1;32m    239\u001b[0m         uowtransaction,\n\u001b[0;32m   (...)\u001b[0m\n\u001b[1;32m    242\u001b[0m         update,\n\u001b[1;32m    243\u001b[0m     )\n\u001b[0;32m--> 245\u001b[0m     _emit_insert_statements(\n\u001b[1;32m    246\u001b[0m         base_mapper,\n\u001b[1;32m    247\u001b[0m         uowtransaction,\n\u001b[1;32m    248\u001b[0m         mapper,\n\u001b[1;32m    249\u001b[0m         table,\n\u001b[1;32m    250\u001b[0m         insert,\n\u001b[1;32m    251\u001b[0m     )\n\u001b[1;32m    253\u001b[0m _finalize_insert_update_commands(\n\u001b[1;32m    254\u001b[0m     base_mapper,\n\u001b[1;32m    255\u001b[0m     uowtransaction,\n\u001b[0;32m   (...)\u001b[0m\n\u001b[1;32m    271\u001b[0m     ),\n\u001b[1;32m    272\u001b[0m )\n",
      "File \u001b[0;32m~/Python_Webapp/venv/lib/python3.10/site-packages/sqlalchemy/orm/persistence.py:1097\u001b[0m, in \u001b[0;36m_emit_insert_statements\u001b[0;34m(base_mapper, uowtransaction, mapper, table, insert, bookkeeping)\u001b[0m\n\u001b[1;32m   1094\u001b[0m records \u001b[39m=\u001b[39m \u001b[39mlist\u001b[39m(records)\n\u001b[1;32m   1095\u001b[0m multiparams \u001b[39m=\u001b[39m [rec[\u001b[39m2\u001b[39m] \u001b[39mfor\u001b[39;00m rec \u001b[39min\u001b[39;00m records]\n\u001b[0;32m-> 1097\u001b[0m c \u001b[39m=\u001b[39m connection\u001b[39m.\u001b[39;49m_execute_20(\n\u001b[1;32m   1098\u001b[0m     statement, multiparams, execution_options\u001b[39m=\u001b[39;49mexecution_options\n\u001b[1;32m   1099\u001b[0m )\n\u001b[1;32m   1101\u001b[0m \u001b[39mif\u001b[39;00m bookkeeping:\n\u001b[1;32m   1102\u001b[0m     \u001b[39mfor\u001b[39;00m (\n\u001b[1;32m   1103\u001b[0m         (\n\u001b[1;32m   1104\u001b[0m             state,\n\u001b[0;32m   (...)\u001b[0m\n\u001b[1;32m   1113\u001b[0m         last_inserted_params,\n\u001b[1;32m   1114\u001b[0m     ) \u001b[39min\u001b[39;00m \u001b[39mzip\u001b[39m(records, c\u001b[39m.\u001b[39mcontext\u001b[39m.\u001b[39mcompiled_parameters):\n",
      "File \u001b[0;32m~/Python_Webapp/venv/lib/python3.10/site-packages/sqlalchemy/engine/base.py:1710\u001b[0m, in \u001b[0;36mConnection._execute_20\u001b[0;34m(self, statement, parameters, execution_options)\u001b[0m\n\u001b[1;32m   1706\u001b[0m     util\u001b[39m.\u001b[39mraise_(\n\u001b[1;32m   1707\u001b[0m         exc\u001b[39m.\u001b[39mObjectNotExecutableError(statement), replace_context\u001b[39m=\u001b[39merr\n\u001b[1;32m   1708\u001b[0m     )\n\u001b[1;32m   1709\u001b[0m \u001b[39melse\u001b[39;00m:\n\u001b[0;32m-> 1710\u001b[0m     \u001b[39mreturn\u001b[39;00m meth(\u001b[39mself\u001b[39;49m, args_10style, kwargs_10style, execution_options)\n",
      "File \u001b[0;32m~/Python_Webapp/venv/lib/python3.10/site-packages/sqlalchemy/sql/elements.py:334\u001b[0m, in \u001b[0;36mClauseElement._execute_on_connection\u001b[0;34m(self, connection, multiparams, params, execution_options, _force)\u001b[0m\n\u001b[1;32m    330\u001b[0m \u001b[39mdef\u001b[39;00m \u001b[39m_execute_on_connection\u001b[39m(\n\u001b[1;32m    331\u001b[0m     \u001b[39mself\u001b[39m, connection, multiparams, params, execution_options, _force\u001b[39m=\u001b[39m\u001b[39mFalse\u001b[39;00m\n\u001b[1;32m    332\u001b[0m ):\n\u001b[1;32m    333\u001b[0m     \u001b[39mif\u001b[39;00m _force \u001b[39mor\u001b[39;00m \u001b[39mself\u001b[39m\u001b[39m.\u001b[39msupports_execution:\n\u001b[0;32m--> 334\u001b[0m         \u001b[39mreturn\u001b[39;00m connection\u001b[39m.\u001b[39;49m_execute_clauseelement(\n\u001b[1;32m    335\u001b[0m             \u001b[39mself\u001b[39;49m, multiparams, params, execution_options\n\u001b[1;32m    336\u001b[0m         )\n\u001b[1;32m    337\u001b[0m     \u001b[39melse\u001b[39;00m:\n\u001b[1;32m    338\u001b[0m         \u001b[39mraise\u001b[39;00m exc\u001b[39m.\u001b[39mObjectNotExecutableError(\u001b[39mself\u001b[39m)\n",
      "File \u001b[0;32m~/Python_Webapp/venv/lib/python3.10/site-packages/sqlalchemy/engine/base.py:1577\u001b[0m, in \u001b[0;36mConnection._execute_clauseelement\u001b[0;34m(self, elem, multiparams, params, execution_options)\u001b[0m\n\u001b[1;32m   1565\u001b[0m compiled_cache \u001b[39m=\u001b[39m execution_options\u001b[39m.\u001b[39mget(\n\u001b[1;32m   1566\u001b[0m     \u001b[39m\"\u001b[39m\u001b[39mcompiled_cache\u001b[39m\u001b[39m\"\u001b[39m, \u001b[39mself\u001b[39m\u001b[39m.\u001b[39mengine\u001b[39m.\u001b[39m_compiled_cache\n\u001b[1;32m   1567\u001b[0m )\n\u001b[1;32m   1569\u001b[0m compiled_sql, extracted_params, cache_hit \u001b[39m=\u001b[39m elem\u001b[39m.\u001b[39m_compile_w_cache(\n\u001b[1;32m   1570\u001b[0m     dialect\u001b[39m=\u001b[39mdialect,\n\u001b[1;32m   1571\u001b[0m     compiled_cache\u001b[39m=\u001b[39mcompiled_cache,\n\u001b[0;32m   (...)\u001b[0m\n\u001b[1;32m   1575\u001b[0m     linting\u001b[39m=\u001b[39m\u001b[39mself\u001b[39m\u001b[39m.\u001b[39mdialect\u001b[39m.\u001b[39mcompiler_linting \u001b[39m|\u001b[39m compiler\u001b[39m.\u001b[39mWARN_LINTING,\n\u001b[1;32m   1576\u001b[0m )\n\u001b[0;32m-> 1577\u001b[0m ret \u001b[39m=\u001b[39m \u001b[39mself\u001b[39;49m\u001b[39m.\u001b[39;49m_execute_context(\n\u001b[1;32m   1578\u001b[0m     dialect,\n\u001b[1;32m   1579\u001b[0m     dialect\u001b[39m.\u001b[39;49mexecution_ctx_cls\u001b[39m.\u001b[39;49m_init_compiled,\n\u001b[1;32m   1580\u001b[0m     compiled_sql,\n\u001b[1;32m   1581\u001b[0m     distilled_params,\n\u001b[1;32m   1582\u001b[0m     execution_options,\n\u001b[1;32m   1583\u001b[0m     compiled_sql,\n\u001b[1;32m   1584\u001b[0m     distilled_params,\n\u001b[1;32m   1585\u001b[0m     elem,\n\u001b[1;32m   1586\u001b[0m     extracted_params,\n\u001b[1;32m   1587\u001b[0m     cache_hit\u001b[39m=\u001b[39;49mcache_hit,\n\u001b[1;32m   1588\u001b[0m )\n\u001b[1;32m   1589\u001b[0m \u001b[39mif\u001b[39;00m has_events:\n\u001b[1;32m   1590\u001b[0m     \u001b[39mself\u001b[39m\u001b[39m.\u001b[39mdispatch\u001b[39m.\u001b[39mafter_execute(\n\u001b[1;32m   1591\u001b[0m         \u001b[39mself\u001b[39m,\n\u001b[1;32m   1592\u001b[0m         elem,\n\u001b[0;32m   (...)\u001b[0m\n\u001b[1;32m   1596\u001b[0m         ret,\n\u001b[1;32m   1597\u001b[0m     )\n",
      "File \u001b[0;32m~/Python_Webapp/venv/lib/python3.10/site-packages/sqlalchemy/engine/base.py:1953\u001b[0m, in \u001b[0;36mConnection._execute_context\u001b[0;34m(self, dialect, constructor, statement, parameters, execution_options, *args, **kw)\u001b[0m\n\u001b[1;32m   1950\u001b[0m             branched\u001b[39m.\u001b[39mclose()\n\u001b[1;32m   1952\u001b[0m \u001b[39mexcept\u001b[39;00m \u001b[39mBaseException\u001b[39;00m \u001b[39mas\u001b[39;00m e:\n\u001b[0;32m-> 1953\u001b[0m     \u001b[39mself\u001b[39;49m\u001b[39m.\u001b[39;49m_handle_dbapi_exception(\n\u001b[1;32m   1954\u001b[0m         e, statement, parameters, cursor, context\n\u001b[1;32m   1955\u001b[0m     )\n\u001b[1;32m   1957\u001b[0m \u001b[39mreturn\u001b[39;00m result\n",
      "File \u001b[0;32m~/Python_Webapp/venv/lib/python3.10/site-packages/sqlalchemy/engine/base.py:2134\u001b[0m, in \u001b[0;36mConnection._handle_dbapi_exception\u001b[0;34m(self, e, statement, parameters, cursor, context)\u001b[0m\n\u001b[1;32m   2132\u001b[0m     util\u001b[39m.\u001b[39mraise_(newraise, with_traceback\u001b[39m=\u001b[39mexc_info[\u001b[39m2\u001b[39m], from_\u001b[39m=\u001b[39me)\n\u001b[1;32m   2133\u001b[0m \u001b[39melif\u001b[39;00m should_wrap:\n\u001b[0;32m-> 2134\u001b[0m     util\u001b[39m.\u001b[39;49mraise_(\n\u001b[1;32m   2135\u001b[0m         sqlalchemy_exception, with_traceback\u001b[39m=\u001b[39;49mexc_info[\u001b[39m2\u001b[39;49m], from_\u001b[39m=\u001b[39;49me\n\u001b[1;32m   2136\u001b[0m     )\n\u001b[1;32m   2137\u001b[0m \u001b[39melse\u001b[39;00m:\n\u001b[1;32m   2138\u001b[0m     util\u001b[39m.\u001b[39mraise_(exc_info[\u001b[39m1\u001b[39m], with_traceback\u001b[39m=\u001b[39mexc_info[\u001b[39m2\u001b[39m])\n",
      "File \u001b[0;32m~/Python_Webapp/venv/lib/python3.10/site-packages/sqlalchemy/util/compat.py:211\u001b[0m, in \u001b[0;36mraise_\u001b[0;34m(***failed resolving arguments***)\u001b[0m\n\u001b[1;32m    208\u001b[0m     exception\u001b[39m.\u001b[39m__cause__ \u001b[39m=\u001b[39m replace_context\n\u001b[1;32m    210\u001b[0m \u001b[39mtry\u001b[39;00m:\n\u001b[0;32m--> 211\u001b[0m     \u001b[39mraise\u001b[39;00m exception\n\u001b[1;32m    212\u001b[0m \u001b[39mfinally\u001b[39;00m:\n\u001b[1;32m    213\u001b[0m     \u001b[39m# credit to\u001b[39;00m\n\u001b[1;32m    214\u001b[0m     \u001b[39m# https://cosmicpercolator.com/2016/01/13/exception-leaks-in-python-2-and-3/\u001b[39;00m\n\u001b[1;32m    215\u001b[0m     \u001b[39m# as the __traceback__ object creates a cycle\u001b[39;00m\n\u001b[1;32m    216\u001b[0m     \u001b[39mdel\u001b[39;00m exception, replace_context, from_, with_traceback\n",
      "File \u001b[0;32m~/Python_Webapp/venv/lib/python3.10/site-packages/sqlalchemy/engine/base.py:1910\u001b[0m, in \u001b[0;36mConnection._execute_context\u001b[0;34m(self, dialect, constructor, statement, parameters, execution_options, *args, **kw)\u001b[0m\n\u001b[1;32m   1908\u001b[0m                 \u001b[39mbreak\u001b[39;00m\n\u001b[1;32m   1909\u001b[0m     \u001b[39mif\u001b[39;00m \u001b[39mnot\u001b[39;00m evt_handled:\n\u001b[0;32m-> 1910\u001b[0m         \u001b[39mself\u001b[39;49m\u001b[39m.\u001b[39;49mdialect\u001b[39m.\u001b[39;49mdo_execute(\n\u001b[1;32m   1911\u001b[0m             cursor, statement, parameters, context\n\u001b[1;32m   1912\u001b[0m         )\n\u001b[1;32m   1914\u001b[0m \u001b[39mif\u001b[39;00m \u001b[39mself\u001b[39m\u001b[39m.\u001b[39m_has_events \u001b[39mor\u001b[39;00m \u001b[39mself\u001b[39m\u001b[39m.\u001b[39mengine\u001b[39m.\u001b[39m_has_events:\n\u001b[1;32m   1915\u001b[0m     \u001b[39mself\u001b[39m\u001b[39m.\u001b[39mdispatch\u001b[39m.\u001b[39mafter_cursor_execute(\n\u001b[1;32m   1916\u001b[0m         \u001b[39mself\u001b[39m,\n\u001b[1;32m   1917\u001b[0m         cursor,\n\u001b[0;32m   (...)\u001b[0m\n\u001b[1;32m   1921\u001b[0m         context\u001b[39m.\u001b[39mexecutemany,\n\u001b[1;32m   1922\u001b[0m     )\n",
      "File \u001b[0;32m~/Python_Webapp/venv/lib/python3.10/site-packages/sqlalchemy/engine/default.py:736\u001b[0m, in \u001b[0;36mDefaultDialect.do_execute\u001b[0;34m(self, cursor, statement, parameters, context)\u001b[0m\n\u001b[1;32m    735\u001b[0m \u001b[39mdef\u001b[39;00m \u001b[39mdo_execute\u001b[39m(\u001b[39mself\u001b[39m, cursor, statement, parameters, context\u001b[39m=\u001b[39m\u001b[39mNone\u001b[39;00m):\n\u001b[0;32m--> 736\u001b[0m     cursor\u001b[39m.\u001b[39;49mexecute(statement, parameters)\n",
      "\u001b[0;31mOperationalError\u001b[0m: (sqlite3.OperationalError) database is locked\n[SQL: INSERT INTO person (id, name, size) VALUES (?, ?, ?)]\n[parameters: (5, 'new_model', 20.5)]\n(Background on this error at: https://sqlalche.me/e/14/e3q8)"
     ]
    }
   ],
   "source": [
    "session.commit()"
   ]
  },
  {
   "cell_type": "code",
   "execution_count": null,
   "metadata": {},
   "outputs": [],
   "source": [
    "person4 = session.query(Person).filter(Person.id==4).first()"
   ]
  },
  {
   "cell_type": "code",
   "execution_count": null,
   "metadata": {},
   "outputs": [],
   "source": [
    "person4.size = 2.236"
   ]
  },
  {
   "cell_type": "code",
   "execution_count": null,
   "metadata": {},
   "outputs": [],
   "source": [
    "session.commit()"
   ]
  },
  {
   "cell_type": "code",
   "execution_count": null,
   "metadata": {},
   "outputs": [],
   "source": [
    "session.query(Person).filter(Person.size>10).delete()"
   ]
  },
  {
   "cell_type": "code",
   "execution_count": null,
   "metadata": {},
   "outputs": [],
   "source": [
    "result_list = session.execute('SELECT * FROM person WHERE id = :id', {\"id\":4}) "
   ]
  },
  {
   "cell_type": "code",
   "execution_count": null,
   "metadata": {},
   "outputs": [],
   "source": [
    "for result in result_list:\n",
    "    print(result)"
   ]
  },
  {
   "cell_type": "code",
   "execution_count": null,
   "metadata": {},
   "outputs": [],
   "source": [
    "session.close()"
   ]
  }
 ],
 "metadata": {
  "kernelspec": {
   "display_name": "Python 3.8.10 ('venv': venv)",
   "language": "python",
   "name": "python3"
  },
  "language_info": {
   "codemirror_mode": {
    "name": "ipython",
    "version": 3
   },
   "file_extension": ".py",
   "mimetype": "text/x-python",
   "name": "python",
   "nbconvert_exporter": "python",
   "pygments_lexer": "ipython3",
   "version": "3.10.6"
  },
  "orig_nbformat": 4,
  "vscode": {
   "interpreter": {
    "hash": "5cc2a2bc4d1eb95f4c857ebd4c3c24fa51d0c2a9ef1a1c18513e46796ff4b098"
   }
  }
 },
 "nbformat": 4,
 "nbformat_minor": 2
}
